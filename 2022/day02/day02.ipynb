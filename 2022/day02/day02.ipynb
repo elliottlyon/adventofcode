{
 "cells": [
  {
   "cell_type": "markdown",
   "id": "c9def9de-58ba-4677-a7a2-38ecf1175f6a",
   "metadata": {},
   "source": [
    "# Day 02\n"
   ]
  },
  {
   "cell_type": "code",
   "execution_count": 1,
   "id": "5fcfaacb-f079-4d60-bcf5-caeb854dd878",
   "metadata": {},
   "outputs": [],
   "source": [
    "import pandas as pd"
   ]
  },
  {
   "cell_type": "markdown",
   "id": "ef95bcfb-a7cb-4692-ab85-16223471943a",
   "metadata": {},
   "source": [
    "## Part 1"
   ]
  },
  {
   "cell_type": "code",
   "execution_count": 2,
   "id": "e7fc2b4a-59f2-4f54-920c-94a4a97141f4",
   "metadata": {},
   "outputs": [],
   "source": [
    "df = pd.read_csv('input_day02.txt', sep=' ', names = ['play', 'response'])"
   ]
  },
  {
   "cell_type": "code",
   "execution_count": 3,
   "id": "ca3b3b17-1798-4525-85d5-b99e4ddb2db6",
   "metadata": {},
   "outputs": [],
   "source": [
    "\"\"\"\n",
    "A, X: Rock\n",
    "B, Y: Paper\n",
    "C, Z: Scissors\n",
    "\"\"\"\n",
    "df = df.replace({'A': 'r', 'B': 'p', 'C': 's', 'X': 'r', 'Y': 'p', 'Z': 's'})"
   ]
  },
  {
   "cell_type": "code",
   "execution_count": 4,
   "id": "1862a475-9fc2-4f62-99c7-5a6f9907e7e7",
   "metadata": {},
   "outputs": [],
   "source": [
    "def rps_logic(play, response):\n",
    "    \"\"\"\n",
    "    Win: 6\n",
    "    Draw: 3\n",
    "    Lose: 0\n",
    "    \n",
    "    Rock: 1\n",
    "    Paper: 2\n",
    "    Scissors: 3\n",
    "    \"\"\"\n",
    "    \n",
    "    score_dict = {'r': 1, 'p': 2, 's': 3}\n",
    "    \n",
    "    if play == response: return 3 + score_dict[response]\n",
    "    if play == 'r' and response == 'p': return 6 + score_dict[response]\n",
    "    if play == 'r' and response == 's': return 0 + score_dict[response]\n",
    "    if play == 'p' and response == 's': return 6 + score_dict[response]\n",
    "    if play == 'p' and response == 'r': return 0 + score_dict[response]\n",
    "    if play == 's' and response == 'r': return 6 + score_dict[response]\n",
    "    if play == 's' and response == 'p': return 0 + score_dict[response]"
   ]
  },
  {
   "cell_type": "code",
   "execution_count": 5,
   "id": "2c1098b0-06a4-4a81-8388-70e13eeb0a96",
   "metadata": {},
   "outputs": [
    {
     "data": {
      "text/plain": [
       "10994"
      ]
     },
     "execution_count": 5,
     "metadata": {},
     "output_type": "execute_result"
    }
   ],
   "source": [
    "df['score'] = df.apply(lambda x: rps_logic(x.play, x.response), axis=1)\n",
    "df['score'].sum()"
   ]
  },
  {
   "cell_type": "markdown",
   "id": "fefae1db-8146-4bb9-a474-c4e79514b710",
   "metadata": {},
   "source": [
    "## Part 2"
   ]
  },
  {
   "cell_type": "code",
   "execution_count": 6,
   "id": "0c18ee8e-4a46-45d7-b5ba-6ff884a10fe6",
   "metadata": {},
   "outputs": [],
   "source": [
    "# generate true response logic and reuse previous code?\n",
    "\n",
    "df2 = pd.read_csv('input_day02.txt', sep=' ', names = ['play', 'outcome'])\n",
    "# just replace first col\n",
    "df2 = df2.replace({'A': 'r', 'B': 'p', 'C': 's'})"
   ]
  },
  {
   "cell_type": "code",
   "execution_count": 7,
   "id": "da12953a-7159-4fd6-bd31-c808946e6007",
   "metadata": {},
   "outputs": [],
   "source": [
    "def true_response_logic(play, outcome):\n",
    "    \"\"\"\n",
    "    X: lose\n",
    "    Y: draw\n",
    "    Z: win\n",
    "    \"\"\"\n",
    "    \n",
    "    if play == 'r' and outcome == 'X': return 's'\n",
    "    if play == 'r' and outcome == 'Y': return 'r'\n",
    "    if play == 'r' and outcome == 'Z': return 'p'\n",
    "    if play == 'p' and outcome == 'X': return 'r'\n",
    "    if play == 'p' and outcome == 'Y': return 'p'\n",
    "    if play == 'p' and outcome == 'Z': return 's'\n",
    "    if play == 's' and outcome == 'X': return 'p'\n",
    "    if play == 's' and outcome == 'Y': return 's'\n",
    "    if play == 's' and outcome == 'Z': return 'r'"
   ]
  },
  {
   "cell_type": "code",
   "execution_count": 8,
   "id": "8c31b478-de49-4300-9ce4-a4567a28cc25",
   "metadata": {},
   "outputs": [
    {
     "data": {
      "text/plain": [
       "12526"
      ]
     },
     "execution_count": 8,
     "metadata": {},
     "output_type": "execute_result"
    }
   ],
   "source": [
    "df2['score'] = df2.apply(lambda x: rps_logic(x.play, true_response_logic(x.play, x.outcome)), axis=1)\n",
    "df2['score'].sum()"
   ]
  }
 ],
 "metadata": {
  "kernelspec": {
   "display_name": "Python 3 (ipykernel)",
   "language": "python",
   "name": "python3"
  },
  "language_info": {
   "codemirror_mode": {
    "name": "ipython",
    "version": 3
   },
   "file_extension": ".py",
   "mimetype": "text/x-python",
   "name": "python",
   "nbconvert_exporter": "python",
   "pygments_lexer": "ipython3",
   "version": "3.9.15"
  }
 },
 "nbformat": 4,
 "nbformat_minor": 5
}
