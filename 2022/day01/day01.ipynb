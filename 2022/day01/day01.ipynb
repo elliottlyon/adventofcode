{
 "cells": [
  {
   "cell_type": "markdown",
   "id": "2ac7f99c-46fc-4851-ba62-8375d474a0d4",
   "metadata": {},
   "source": [
    "# Day 01"
   ]
  },
  {
   "cell_type": "code",
   "execution_count": null,
   "id": "c959794a-48f6-465f-8c46-9e46311b77a4",
   "metadata": {},
   "outputs": [],
   "source": [
    "# list of lines in text file\n",
    "food = open('input_day01.txt', 'rt').read().split('\\n')\n",
    "\n",
    "# loop through and add to second list, restarting on empty lines\n",
    "totals = []\n",
    "temp_total = 0\n",
    "for item in food:\n",
    "    if item == '':\n",
    "        totals.append(temp_total)\n",
    "        temp_total = 0\n",
    "    else:\n",
    "        temp_total += int(item)"
   ]
  },
  {
   "cell_type": "code",
   "execution_count": null,
   "id": "d8226dda-33a5-4571-bd43-d6e6842358f9",
   "metadata": {},
   "outputs": [],
   "source": [
    "# most calories on 1 elf\n",
    "max(totals)"
   ]
  },
  {
   "cell_type": "code",
   "execution_count": null,
   "id": "67b5683a-d151-4933-b9c8-e89bce9f9f4a",
   "metadata": {},
   "outputs": [],
   "source": [
    "# total calories on top 3\n",
    "totals.sort(reverse = True)\n",
    "sum(totals[:3])"
   ]
  },
  {
   "cell_type": "code",
   "execution_count": null,
   "id": "e508aa5d-9e98-4807-85d8-b3c824addd9c",
   "metadata": {},
   "outputs": [],
   "source": []
  }
 ],
 "metadata": {
  "kernelspec": {
   "display_name": "Python 3 (ipykernel)",
   "language": "python",
   "name": "python3"
  },
  "language_info": {
   "codemirror_mode": {
    "name": "ipython",
    "version": 3
   },
   "file_extension": ".py",
   "mimetype": "text/x-python",
   "name": "python",
   "nbconvert_exporter": "python",
   "pygments_lexer": "ipython3",
   "version": "3.9.15"
  }
 },
 "nbformat": 4,
 "nbformat_minor": 5
}
