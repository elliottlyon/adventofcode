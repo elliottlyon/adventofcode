{
 "cells": [
  {
   "cell_type": "markdown",
   "id": "38897f1c-2a20-41f0-af6f-c5c41daae106",
   "metadata": {},
   "source": [
    "# Day 03"
   ]
  },
  {
   "cell_type": "code",
   "execution_count": 1,
   "id": "51db9211-230b-4f2c-bbbf-559fa12b542c",
   "metadata": {},
   "outputs": [],
   "source": [
    "import pandas as pd\n",
    "import string"
   ]
  },
  {
   "cell_type": "code",
   "execution_count": 2,
   "id": "fa5f342b-8a36-47eb-80b8-f0b95cfd40d8",
   "metadata": {},
   "outputs": [],
   "source": [
    "df = pd.read_csv('input_day03.txt', names = ['items'])"
   ]
  },
  {
   "cell_type": "markdown",
   "id": "6cc06c60-1672-4885-9a0a-64d6d2569e1f",
   "metadata": {},
   "source": [
    "## Part 1"
   ]
  },
  {
   "cell_type": "code",
   "execution_count": 4,
   "id": "6cb2da83-9c68-4add-b777-66f59a37ee67",
   "metadata": {},
   "outputs": [],
   "source": [
    "def seperate_rucksacks(items):\n",
    "    # 2 rucksacks equal size\n",
    "    return [items[:len(items) // 2], items[len(items) // 2:]]"
   ]
  },
  {
   "cell_type": "code",
   "execution_count": 6,
   "id": "691bc538-32cd-4fa5-a9b7-6d6dcf4af48f",
   "metadata": {},
   "outputs": [],
   "source": [
    "def common_item_prio(item_lists):\n",
    "    # dict of letters and priorities\n",
    "    letters = list(string.ascii_letters)\n",
    "    prio_dict = {letters[i]:i+1 for i in range(len(letters))}\n",
    "    \n",
    "    common_item = ''.join(set(item_lists[0]).intersection(*item_lists[1:]))\n",
    "    \n",
    "    return prio_dict[common_item]"
   ]
  },
  {
   "cell_type": "code",
   "execution_count": 7,
   "id": "380634a3-6fc8-4937-b9ef-649a7c534abf",
   "metadata": {},
   "outputs": [],
   "source": [
    "df['prio'] = df['items'].apply(lambda x: common_item_prio(seperate_rucksacks(x)))"
   ]
  },
  {
   "cell_type": "code",
   "execution_count": 8,
   "id": "052e9a3a-b224-4dad-a341-df3de0d63497",
   "metadata": {},
   "outputs": [
    {
     "data": {
      "text/plain": [
       "7863"
      ]
     },
     "execution_count": 8,
     "metadata": {},
     "output_type": "execute_result"
    }
   ],
   "source": [
    "df['prio'].sum()"
   ]
  },
  {
   "cell_type": "markdown",
   "id": "0e4cb629-6076-480b-bc6c-193a9a389520",
   "metadata": {},
   "source": [
    "## Part 2"
   ]
  },
  {
   "cell_type": "code",
   "execution_count": 14,
   "id": "4fbda70e-cf45-45c8-ad21-71fbda50f758",
   "metadata": {},
   "outputs": [],
   "source": [
    "# groups of 3 elves\n",
    "groups = pd.DataFrame(df.groupby(df.index//3)['items'].unique())"
   ]
  },
  {
   "cell_type": "code",
   "execution_count": 15,
   "id": "c98e4943-dae8-4225-8fe8-68d3b30ab190",
   "metadata": {},
   "outputs": [],
   "source": [
    "groups['badge_prio'] = groups['items'].apply(lambda x: common_item_prio(x))"
   ]
  },
  {
   "cell_type": "code",
   "execution_count": 16,
   "id": "ac337905-bf33-4a63-9dd8-175828514845",
   "metadata": {},
   "outputs": [
    {
     "data": {
      "text/plain": [
       "2488"
      ]
     },
     "execution_count": 16,
     "metadata": {},
     "output_type": "execute_result"
    }
   ],
   "source": [
    "groups['badge_prio'].sum()"
   ]
  }
 ],
 "metadata": {
  "kernelspec": {
   "display_name": "Python 3 (ipykernel)",
   "language": "python",
   "name": "python3"
  },
  "language_info": {
   "codemirror_mode": {
    "name": "ipython",
    "version": 3
   },
   "file_extension": ".py",
   "mimetype": "text/x-python",
   "name": "python",
   "nbconvert_exporter": "python",
   "pygments_lexer": "ipython3",
   "version": "3.9.15"
  }
 },
 "nbformat": 4,
 "nbformat_minor": 5
}
